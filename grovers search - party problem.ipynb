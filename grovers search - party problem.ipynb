{
 "cells": [
  {
   "cell_type": "markdown",
   "id": "1e046a99-c471-4375-b93e-3941e23a6847",
   "metadata": {},
   "source": [
    "# Unsorted Search on Classical Computers"
   ]
  },
  {
   "cell_type": "markdown",
   "id": "c9fc2fef-fb97-46b6-89e3-0864e1ecb7d0",
   "metadata": {
    "tags": []
   },
   "source": [
    "Lets start with how you can search a value in an unsorted list of numbers using classical computers. Let’s take a list of 10 numbers in no particular order, such as, `[3,6,1,9,7,2,5,0,8,4]`. Lets say, you want to search for 8 in this list. Since the list is in no particular order, you will have to check the list items one-by-one till you find a match. If you went from left to right, it would take you 9 tries in this list of 10 numbers.\n",
    "\n",
    "Checking for the match can be seen as a call to an oracle function, which returns True if the input is the number we are looking for, else returns False. So, the oracle function would be called 9 times before you find 8 in the list. However, if you were searching for 3, then you would be lucky and find it on the first try.\n",
    "\n",
    "On average, you will need to check a list of $N$ numbers $N/2$ times. In other words, it has time complexity of $O(N)$.\n",
    "\n",
    "What is exciting though is that on a quantum computer you can perform this search in time-complexity of $O(\\sqrt{N})$ using Grover’s algorithm. "
   ]
  },
  {
   "cell_type": "code",
   "execution_count": null,
   "id": "7989081e-db36-46a0-88f0-c8ef78ca646f",
   "metadata": {
    "tags": []
   },
   "outputs": [],
   "source": [
    "def oracle_classical(n):\n",
    "    to_match = 8    # this is the number being searched\n",
    "    if n == to_match:\n",
    "        return True\n",
    "    else:\n",
    "        return False"
   ]
  },
  {
   "cell_type": "code",
   "execution_count": null,
   "id": "0a631a88-0fef-42ca-a47f-1a3fd3a54aaa",
   "metadata": {
    "tags": []
   },
   "outputs": [],
   "source": [
    "# This is the unsorted list in which a number is searched\n",
    "numlist = [3,6,1,9,7,8,5,0,2,4]\n",
    "\n",
    "num_tries = None # indicates if the list does not contain the number being searched\n",
    "\n",
    "for i,n in enumerate(numlist):\n",
    "    if oracle_classical(n):\n",
    "        num_tries = i + 1\n",
    "print(num_tries)"
   ]
  },
  {
   "cell_type": "markdown",
   "id": "64b31529-61db-437d-b479-ed49b612399f",
   "metadata": {
    "tags": []
   },
   "source": [
    "# Unsorted Search on Quantum Computers: Grover's Algorithm\n",
    "This notebook implements Grover’s algorithm on  Amazon Braket to achieve the mentioned speedup.  \n",
    "Grover's algorithm takes advantage of superposition, entanglement, and interference, in quantum computers to get that speedup."
   ]
  },
  {
   "cell_type": "markdown",
   "id": "28299030-f873-4bf5-a290-bf42c5731da1",
   "metadata": {
    "tags": []
   },
   "source": [
    "***\n",
    "## First some code for using *Amazon Braket*"
   ]
  },
  {
   "cell_type": "markdown",
   "id": "ebaa35ae-d8ec-4ac0-8a0c-0c3968e3f941",
   "metadata": {},
   "source": [
    "### Module imports for *Amazon Braket*\n",
    "* the class Circuit is core to building quantum circuits on *Amazon Braket*\n",
    "* subroutine decorator for defining custom operators (gates)\n",
    "* LocalSimulator is a quantum computer simulator run on your local compute instance"
   ]
  },
  {
   "cell_type": "code",
   "execution_count": null,
   "id": "dd9a5bfd-c501-40db-9910-7b02ac5dccae",
   "metadata": {
    "tags": []
   },
   "outputs": [],
   "source": [
    "# Import Braket libraries\n",
    "from braket.circuits import Circuit\n",
    "from braket.circuits.circuit import subroutine\n",
    "from braket.devices import LocalSimulator\n",
    "import matplotlib.pyplot as plt\n",
    "# magic word for producing visualizations in notebook\n",
    "%matplotlib inline\n",
    "import numpy as np"
   ]
  },
  {
   "cell_type": "markdown",
   "id": "32f02469-85ae-4b07-80dc-e7b53dcab700",
   "metadata": {
    "tags": []
   },
   "source": [
    "### Utility function to run quantum circuit on *Amazon Braket*\n",
    "This function runs a quantum circuit on a specified device, return the probabilities of measuring qubits as specified in the circuit.  \n",
    "Note the parameter shots=1000. This is to run the circuit that many times to compute the probabilities of the measured results from the circuit."
   ]
  },
  {
   "cell_type": "code",
   "execution_count": null,
   "id": "dc4929d8-9b93-4cc1-964a-d91eabfec695",
   "metadata": {
    "tags": []
   },
   "outputs": [],
   "source": [
    "# Function to run quantum task, check the status thereof, and collect results\n",
    "def get_result(circ,device):\n",
    "\n",
    "    # submit task: define task (asynchronous)\n",
    "    task = device.run(circ, shots=1000)\n",
    "\n",
    "    # Wait for job to complete\n",
    "    status = task.state()\n",
    "    print('Status:', status)\n",
    "    # Only notify the user when there's a status change\n",
    "    while status != 'COMPLETED':\n",
    "        status = task.state()\n",
    "        print('Status:', status)\n",
    "    print()\n",
    "\n",
    "    # get result\n",
    "    result = task.result()\n",
    "\n",
    "    # get output probabilities\n",
    "    probs_values = result.values[0]\n",
    "    \n",
    "    return probs_values"
   ]
  },
  {
   "cell_type": "markdown",
   "id": "730342f2-e29c-4a72-994a-df62cf91b795",
   "metadata": {},
   "source": [
    "***"
   ]
  },
  {
   "cell_type": "markdown",
   "id": "4a89ea8f-a6e6-42a0-93fc-c366ce7b7246",
   "metadata": {
    "tags": []
   },
   "source": [
    "## Solution to Dinner Party problem using Grover's algorithm\n",
    "Dinner Party problem is about selecting a set of friends to invite to a dinner party, while satisfying certain constraints regarding who can be invited along with who. This is basically a boolean satisfiability problem, which belongs to the NP-complete class of problems.\n",
    "\n",
    "### Problem instance specification\n",
    "The dinner party constraints for this instance of the problem are the following\n",
    "- have to invite fromamong  three friends, creatnamed as 0, 1, and 2\n",
    "- 0 and 1 get along well together; 0 and 2 get along welll together; but 1 and 2 dont get along well\n",
    "- to invite friends who will get along well together in the dinner party"
   ]
  },
  {
   "cell_type": "markdown",
   "id": "5defd441-1ae1-4d39-b420-edbd40d40522",
   "metadata": {
    "tags": []
   },
   "source": [
    "### Utility functions for building oracle circuit\n",
    "These functions help in writing the oracle operator.  \n",
    "Specifically these functions perform the following operations -\n",
    "* CTL(opMatrix) - this function creates an operator matrix that adds a control qubit for a given operator opMatrix. The control qubit is the most significant qubit in the resukting operator.\n",
    "* cnx(targets) - this function uses the CTL() function to create a controlled NOT operator with multiple control qubits. The operator takes the least significant qubit in *targets* as the target of the NOT operation, and rest as control qubits.\n",
    "* qor(ckt, inplist, out) - this function appends an OR boolean operation to the *ckt* circuit, taking *inplist* as the inputs for the OR, and *out* as the output of that OR.\n",
    "* qand(ckt,inplist,out) - just as the qor operation above, this appends a boolean AND operation to the circuit *ckt*.\n",
    "* qnot(ckt,inplist) - this appends NOT boolean operation, i.e., simply X gates, for the target qubits, *inplist*"
   ]
  },
  {
   "cell_type": "code",
   "execution_count": null,
   "id": "0b0f9aab-5960-4e88-bff7-7600f1c59385",
   "metadata": {
    "tags": []
   },
   "outputs": [],
   "source": [
    "## Utility function to add control bit\n",
    "def CTL(opMatrix):\n",
    "    (r,c) = opMatrix.shape\n",
    "    oparr = np.array(opMatrix)\n",
    "    coparr = np.eye(r*2,dtype=complex)\n",
    "    for i in range(r,r*2):\n",
    "        for j in range(r,r*2):\n",
    "            coparr[i][j] = oparr[i-r][j-r]\n",
    "    return np.array(coparr,dtype=complex)\n",
    "\n",
    "# Utility function to create n-controls X gate\n",
    "@subroutine(register=True)\n",
    "def cnx(targets):\n",
    "    # define X gate\n",
    "    x_gate = np.array([[0.0, 1.0], [1.0, 0.0]], dtype=complex)\n",
    "    \n",
    "    cnx_gate = x_gate\n",
    "    for i in range(len(targets)-1):\n",
    "        cnx_gate = CTL(cnx_gate)\n",
    "    # instantiate circuit object\n",
    "    circ = Circuit()\n",
    "    # add cnx gate\n",
    "    circ.unitary(matrix=cnx_gate, targets=targets)\n",
    "    return circ\n",
    "\n",
    "# Utility functions to implement boolean gates\n",
    "def qor(ckt,inplist,out):\n",
    "    ckt.x(inplist)\n",
    "    ckt.cnx((inplist+[out]))\n",
    "    ckt.x(inplist)\n",
    "    ckt.x(out)\n",
    "\n",
    "def qand(ckt,inplist,out):\n",
    "    ckt.cnx((inplist+[out]))\n",
    "    \n",
    "def qnot(ckt,inplist):\n",
    "    ckt.x(inplist)"
   ]
  },
  {
   "cell_type": "markdown",
   "id": "bcdf8017-d77a-41a6-bebd-33eec460c602",
   "metadata": {},
   "source": [
    "### Assign qubits for inputs, output, and work registers\n",
    "As we start putting together the quantum circuit, we first identify the qubits to be used in the circuit, and their role therein.  \n",
    "Specifically, we group the qubits into three registers as following:\n",
    "* Input register, *inreg* - these qubits represent the individual friends invittion status, at the end of the algorithm these are readout to get the result\n",
    "* Output register, *outreg* - this qubit is the output qubit of the oracle operator, this qubit is initialized to |-> state at the initialization to effect the phase kickback\n",
    "* Work register, *work* - these qubits are a scratch pad area for the oracle operator to implement its logic. These qubits are required to be cleaned up back to 0 state when the oracle operator is done"
   ]
  },
  {
   "cell_type": "code",
   "execution_count": null,
   "id": "d69b08a4-8014-43cc-aa34-44e53cc824cc",
   "metadata": {
    "tags": []
   },
   "outputs": [],
   "source": [
    "inreg = [0,1,2]\n",
    "work = [3,4,5,6,7]\n",
    "outreg = [8]"
   ]
  },
  {
   "cell_type": "markdown",
   "id": "d7eb87a9-872c-4a7d-b13a-fcc8695b5d06",
   "metadata": {},
   "source": [
    "### Grover's circuit components\n",
    "At the heart of Grover’s algorithm are two operators, the oracle and a reflection operator also known as Grover’s diffusion operator. Additionallly, we need to initialize the input qubits into a uniform superposition, and output qubit into |-> state.\n",
    "#### Oracle for Dinner Party problem\n",
    "The party_oracle circuit implements the boolean logic for the constraints specified earlier for this probelm instance. So, per the specified constraints it indicates if the input  combinations of invitees are mutually compatible. Remember it cleans up the work qubits when done.  \n",
    "The cell below additionally prints out the oracle operator's circuit to help visualize its operation."
   ]
  },
  {
   "cell_type": "code",
   "execution_count": null,
   "id": "4ba12cdd-a80d-48b6-a505-98fb8fc1f34a",
   "metadata": {
    "tags": []
   },
   "outputs": [],
   "source": [
    "def party_oracle(inreg,outreg,work):\n",
    "    partyckt = Circuit()\n",
    "    # Invite ((0 and 1) or (0 and 2)) and NOT (1 and 2)\n",
    "    qand(partyckt,[inreg[0],inreg[1]], work[0])\n",
    "    qand(partyckt,[inreg[0],inreg[2]], work[1])\n",
    "    qor(partyckt,[work[0],work[1]],work[2])\n",
    "    qand(partyckt,[inreg[1],inreg[2]], work[3])\n",
    "    partyckt.x(work[3])\n",
    "    qand(partyckt,[work[2],work[3]], work[4])\n",
    "    partyckt.cnot(work[4],outreg[0])\n",
    "    # cleanup the work qubits\n",
    "    qand(partyckt,[work[2],work[3]], work[4])\n",
    "    partyckt.x(work[3])\n",
    "    qand(partyckt,[inreg[1],inreg[2]], work[3])\n",
    "    qor(partyckt,[work[0],work[1]],work[2])\n",
    "    qand(partyckt,[inreg[0],inreg[2]], work[1])\n",
    "    qand(partyckt,[inreg[0],inreg[1]], work[0])\n",
    "    \n",
    "    return partyckt\n",
    "print(party_oracle(inreg, outreg,work))"
   ]
  },
  {
   "cell_type": "markdown",
   "id": "4649f3aa-24b6-4f43-b015-8fc4f888689d",
   "metadata": {},
   "source": [
    "#### Grover's diffusion operator\n",
    "The diffusion operator is the trick behind Grover’s operator, it flips every amplitude in the superposition around the mean amplitude. In conjunction with the oracle and phase kick-back, this leads to amplification of the amplitude of the target.  \n",
    "<<TBD more details - this is the most interesting part!>>"
   ]
  },
  {
   "cell_type": "code",
   "execution_count": null,
   "id": "b0bf4d66-6c9c-4b94-bf94-52ffd3463427",
   "metadata": {
    "tags": []
   },
   "outputs": [],
   "source": [
    "def diffusion_op(inreg,outreg):\n",
    "    # diffuser\n",
    "    diff = Circuit()\n",
    "    diff.h(inreg)\n",
    "    diff.x(inreg)\n",
    "    diff.cnx(inreg+outreg)\n",
    "    diff.x(outreg)\n",
    "    diff.x(inreg)\n",
    "    diff.h(inreg)\n",
    "\n",
    "    return diff\n",
    "print(diffusion_op(inreg,outreg))"
   ]
  },
  {
   "cell_type": "markdown",
   "id": "ebac7884-8912-47ef-8442-0feeafd7a31e",
   "metadata": {},
   "source": [
    "#### Initializer\n",
    "Initializer circuit puts input register qubits in uniform superposition of all states by applying H gate to each of those qubits. So, the superposition of all states of the input qubits have equal amplitude at the time of initialization. Also, to effect phase kick-back, the output qubit is put in |-⟩ state by applying X gate followed by H gate."
   ]
  },
  {
   "cell_type": "code",
   "execution_count": null,
   "id": "c3205ae5-66f2-4036-b8e9-584d6d899c31",
   "metadata": {
    "tags": []
   },
   "outputs": [],
   "source": [
    "def prepare(inreg, outreg):\n",
    "    prep = Circuit()\n",
    "    prep.h(inreg)\n",
    "    prep.x(outreg)\n",
    "    prep.h(outreg)\n",
    "    return prep\n",
    "print(prepare(inreg,outreg))"
   ]
  },
  {
   "cell_type": "markdown",
   "id": "81a704d4-b441-4fcf-b052-3f7c9a11023e",
   "metadata": {},
   "source": [
    "#### Putting these together to create full quantum circuit for Dinner Party problem\n",
    "We are now ready to assemble the full quantum circuit using the functions to create the individual components.  \n",
    "A point to note though, the oracle-diffuser pair requires to be iterated $\\pi/4 \\sqrt{N/t}$ times, if there are $t$ solutions to the problem. However, for this instance of this problem we cheat a little bit since we know in advance the number of iteration required is 1.  \n",
    "In a more general implementation you will need to use an additional step using *Quantum counting algorithm* to efficiently count the number of solutions for the given problem. The quantum counting algorithm is based on the quantum phase estimation algorithm. This algorithm is a separate topic in its own right, we will not discuss it in this notebook."
   ]
  },
  {
   "cell_type": "code",
   "execution_count": null,
   "id": "1bab5e45-2b9b-4a9c-9783-ec59b81ec30e",
   "metadata": {
    "tags": []
   },
   "outputs": [],
   "source": [
    "def grover_ckt(inreg,outreg,work,n_reps):\n",
    "    gckt = prepare(inreg,outreg)\n",
    "    for i in range(n_reps):\n",
    "        ora = party_oracle(inreg,outreg,work)\n",
    "        gckt.add(ora)\n",
    "\n",
    "        diff = diffusion_op(inreg,outreg)\n",
    "        gckt.add(diff)\n",
    "\n",
    "    gckt.probability(target=inreg)\n",
    "\n",
    "    return gckt\n",
    "\n",
    "groverckt = grover_ckt(inreg,outreg,work,n_reps=1)\n",
    "print(groverckt)"
   ]
  },
  {
   "cell_type": "markdown",
   "id": "a6bd42dd-8d24-4ce0-99ac-f2c22f619574",
   "metadata": {
    "tags": []
   },
   "source": [
    "# Running the circuit and displaying results"
   ]
  },
  {
   "cell_type": "markdown",
   "id": "c455bbaf-60c8-4314-93c3-5f508b4b4b9e",
   "metadata": {},
   "source": [
    "## Function to display measured probabilities\n",
    "This is a utility function that displays the outcome of the execution of the quantum circuit in a graphical form."
   ]
  },
  {
   "cell_type": "code",
   "execution_count": null,
   "id": "bbb944b4-3d9b-42f9-9a34-0f817854eedf",
   "metadata": {
    "tags": []
   },
   "outputs": [],
   "source": [
    "def show_probs(measured_qubits,probs):\n",
    "    num_qubits = len(measured_qubits)\n",
    "\n",
    "    if 2**num_qubits != len(probs):\n",
    "        print('mismatch in mnum of qubits measured and number of probabilities')\n",
    "        return -1\n",
    "\n",
    "    format_str = '{0:0'+str(num_qubits)+'b}'\n",
    "    labels = [format_str.format(i) for i in range(len(probs))]\n",
    "    # plot probabalities\n",
    "    plt.bar(labels, probs)\n",
    "    plt.xlabel('bitstrings')\n",
    "    plt.ylabel('probability')\n",
    "    plt.xticks(rotation=90)\n",
    "\n",
    "    return 0"
   ]
  },
  {
   "cell_type": "markdown",
   "id": "3bedfe15-0473-4c0c-8ee4-03bcce0c2560",
   "metadata": {},
   "source": [
    "## Running on LocalSimulator\n",
    "Finally we run the circuit a large number of times to get an estimation of the probabilities of the results.  \n",
    "Here we use LcocalSimulator as the device to run this circuit.\n",
    "\n",
    "You should see two possible solutions as $101$ and $110$, i.e., invite friends 0 and 2, or invite friends 1 and 2."
   ]
  },
  {
   "cell_type": "code",
   "execution_count": null,
   "id": "d669c4cc-b02d-446c-ac26-f41fecea680c",
   "metadata": {
    "tags": []
   },
   "outputs": [],
   "source": [
    "# set up the local simulator\n",
    "device = LocalSimulator()\n",
    "\n",
    "# Run on this device\n",
    "probs = get_result(groverckt, device)\n",
    "\n",
    "# Plot the probabilities measured\n",
    "show_probs(inreg,probs)"
   ]
  },
  {
   "cell_type": "markdown",
   "id": "b0d4ca6c-5dfc-4ca6-9076-178ef98f6447",
   "metadata": {
    "tags": []
   },
   "source": [
    "# Shut down the notebook\n",
    "Remember to shutdown the notebook to avoid running up your bill.  \n",
    "Thank you!"
   ]
  }
 ],
 "metadata": {
  "kernelspec": {
   "display_name": "conda_pytorch_p310",
   "language": "python",
   "name": "conda_pytorch_p310"
  },
  "language_info": {
   "codemirror_mode": {
    "name": "ipython",
    "version": 3
   },
   "file_extension": ".py",
   "mimetype": "text/x-python",
   "name": "python",
   "nbconvert_exporter": "python",
   "pygments_lexer": "ipython3",
   "version": "3.10.14"
  },
  "toc-autonumbering": true,
  "toc-showmarkdowntxt": false
 },
 "nbformat": 4,
 "nbformat_minor": 5
}
